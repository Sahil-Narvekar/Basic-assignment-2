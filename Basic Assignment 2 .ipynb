{
 "cells": [
  {
   "cell_type": "markdown",
   "metadata": {},
   "source": [
    " Basic Assignment 2"
   ]
  },
  {
   "cell_type": "markdown",
   "metadata": {},
   "source": [
    "1. What are the Boolean data type's two values? How do you go about writing them?\n",
    "\n",
    "Two data typs are True adn False\n",
    "Integer,float or complex number set to zero returns False when called in Boolean function.\n",
    "Example bool(int(0)) returns False\n",
    "\n",
    "Integer,float or complex number set to value other than zero returns True when called in \n",
    "Boolean function.\n",
    "Example bool(complex(5)) returns True"
   ]
  },
  {
   "cell_type": "code",
   "execution_count": 18,
   "metadata": {},
   "outputs": [
    {
     "data": {
      "text/plain": [
       "(False, True)"
      ]
     },
     "execution_count": 18,
     "metadata": {},
     "output_type": "execute_result"
    }
   ],
   "source": [
    "bool(int(0)),bool(complex(5))"
   ]
  },
  {
   "cell_type": "markdown",
   "metadata": {},
   "source": [
    "2. What are the three different types of Boolean operators?\n",
    "\n",
    "Boolean operators AND,OR and NOT"
   ]
  },
  {
   "cell_type": "markdown",
   "metadata": {},
   "source": [
    "3. Make a list of each Boolean operator's truth tables (i.e. every possible combination of Boolean values for the operator and what it evaluate ).\n",
    "Lets evaluate using 1 and 0(True or False may also be used respectively)"
   ]
  },
  {
   "cell_type": "code",
   "execution_count": 17,
   "metadata": {},
   "outputs": [
    {
     "data": {
      "text/plain": [
       "((0, 0, 0, 1), (0, 1, 1, 1), True, True)"
      ]
     },
     "execution_count": 17,
     "metadata": {},
     "output_type": "execute_result"
    }
   ],
   "source": [
    "a=0 and 0,1 and 0,0 and 1,1 and 1\n",
    "b=0 or 0,0 or 1,1 or 0,1 or 1\n",
    "c1=not 0\n",
    "c2=not True\n",
    "a,b,c,c2"
   ]
  },
  {
   "cell_type": "markdown",
   "metadata": {},
   "source": [
    "AND:Hence when using and both inputs should be one or True or High to give output one (True or High )      if any input is zero output becomes zero.\n",
    "OR:Hence when using or any inputs should be one or True or High to give output one ( True or High  )     if both inputs are zero only then output becomes zero.\n",
    "NOT:It returns either True or False.If input is True or any other number other than zero it returns       False,if input is False or Zero then it returns True.\n"
   ]
  },
  {
   "cell_type": "markdown",
   "metadata": {},
   "source": [
    "4. What are the values of the following expressions?\n",
    "\n",
    "(5 > 4) and (3 == 5)\n",
    "(ans)False\n",
    "not (5 > 4)\n",
    "(ans)False\n",
    "(5 > 4) or (3 == 5)\n",
    "(ans)True\n",
    "not ((5 > 4) or (3 == 5))\n",
    "(ans)False\n",
    "(True and True) and (True == False)\n",
    "(ans)False\n",
    "(not False) or (not True)\n",
    "(ans)True\n"
   ]
  },
  {
   "cell_type": "code",
   "execution_count": 23,
   "metadata": {},
   "outputs": [
    {
     "data": {
      "text/plain": [
       "True"
      ]
     },
     "execution_count": 23,
     "metadata": {},
     "output_type": "execute_result"
    }
   ],
   "source": [
    "(not False) or (not True)"
   ]
  },
  {
   "cell_type": "markdown",
   "metadata": {},
   "source": [
    "5. What are the six different types of comparison operators?\n",
    "They are used to compare two values\n",
    "== - Equal checks if x==y returns True if equal\n",
    "!= - Not Equal checks if x!=y returns False if equal and True if not equal\n",
    "' > ' - Greater than x>y returns True if x is greater than y else False    \n",
    "' < ' - Lesser than x < y returns True if x is less than y else False\n",
    "'>= '-Greater than or equal to x>=y returns True if x is greater than or equal to y else False\n",
    "'<= '-Less than or equal to x<=y returns True if x is lesser than or equal to y else False "
   ]
  },
  {
   "cell_type": "markdown",
   "metadata": {},
   "source": [
    "6. How do you tell the difference between the equal to and assignment operators?\n",
    "\n",
    "Equal to operator uses == sign whereas assignment uses one= sign.\n",
    "Assignment operator is used to assign a value.\n",
    "Example a=5 assigns value 5 to variable a.\n",
    "Equal to operator is used to check whether a condition is True or False.\n",
    "\n",
    "Example 4==5 will return False as 4 is not equal to 5."
   ]
  },
  {
   "cell_type": "markdown",
   "metadata": {},
   "source": [
    "7. Describe a condition and when you would use one.\n",
    "If I have to assign value 5 to variable a.\n",
    "Example a=5 assigns value 5 to variable a.\n",
    "If I have to check if two numbers or variables are Equal.\n",
    "Example 4==5 will return False as 4 is not equal to 5."
   ]
  },
  {
   "cell_type": "markdown",
   "metadata": {},
   "source": [
    "8. Recognize the following three blocks in this code:\n",
    "\n",
    "spam = 0\n",
    "if spam == 10:\n",
    "    print('eggs')\n",
    "    if spam > 5:\n",
    "        print('bacon')\n",
    "    else:\n",
    "        print('ham')\n",
    "    print('spam')\n",
    "print('spam')\n",
    "\n",
    "ans)Only spam will get printed  as spam is assigned value 0 initially\n",
    "   Hence if condition of spam==10 will never become True hence the code in that block won't get executed.\n",
    "  spam can be given only value 10 so that the first block gets executed and hence when spam is equal to 10 then it will print \n",
    "eggs\n",
    "bacon\n",
    "spam\n",
    "spam"
   ]
  },
  {
   "cell_type": "code",
   "execution_count": 26,
   "metadata": {},
   "outputs": [
    {
     "name": "stdout",
     "output_type": "stream",
     "text": [
      "eggs\n",
      "bacon\n",
      "spam\n",
      "spam\n"
     ]
    }
   ],
   "source": [
    "spam = 10\n",
    "if spam == 10:\n",
    "    print('eggs')\n",
    "    if spam > 5:\n",
    "    \n",
    "        print('bacon')\n",
    "    else:\n",
    "        print('ham')\n",
    "    print('spam')\n",
    "print('spam')"
   ]
  },
  {
   "cell_type": "markdown",
   "metadata": {},
   "source": [
    "9. Create a programme that prints. If 1 is stored in spam, prints Hello; if 2 is stored in spam, prints Howdy; and if 3 is stored in spam, prints Salutations! if there's something else in spam.\n",
    "\n",
    "if spam==1:\n",
    "    print('hello')\n",
    "elif spam==2:\n",
    "    print('Howdy')\n",
    "elif spam==3:\n",
    "    print('Salutations!')\n",
    "else:\n",
    "    print('something else')\n"
   ]
  },
  {
   "cell_type": "markdown",
   "metadata": {},
   "source": [
    "10.If your programme is stuck in an endless loop, what keys can you press?\n",
    "ans)We can press ctrl+c,or restart kernel or change the cell to markdown to come out of loop."
   ]
  },
  {
   "cell_type": "markdown",
   "metadata": {},
   "source": [
    "11. How can you tell the difference between break and continue?\n",
    "ans)k=5\n",
    "while k<10:\n",
    "    print('repeat',end=' ')\n",
    "    k+=1\n",
    "    continue\n",
    "    print('5')\n",
    "output: repeat repeat repeat repeat repeat    \n",
    "will give this ouput because continue statement will not allow next statment to get executed \n",
    "and will make it start from while loop again\n",
    "\n",
    "k=5\n",
    "while k<10:\n",
    "    print('repeat',end=' ')\n",
    "    k+=1\n",
    "    break\n",
    "    print('5')\n",
    "output:repeat\n",
    "will give only one repeat as break command will break from the while loop at that instance\n",
    "\n"
   ]
  },
  {
   "cell_type": "markdown",
   "metadata": {},
   "source": [
    "12. In a for loop, what is the difference between range(10), range(0, 10), and range(0, 10, 1)?\n",
    "In range(10) it will take the index from default 0 to 9 total 10 numbers.\n",
    "\n",
    "In range(0,10) it will have index from first value that is zero to number less than second number that is 9 total 10 number.\n",
    "\n",
    "In range(0,10,1) it will have index from first value that is zero to number less than second number that is 9 in steps of 3rd number that is step of 1, total 10 number."
   ]
  },
  {
   "cell_type": "markdown",
   "metadata": {},
   "source": [
    "13. Using a for loop, write a short programme that prints the numbers 1 to 10 Then, using a while loop, create an identical programme that prints the numbers 1 to 10.\n",
    "\n",
    "for x in range(1,11):\n",
    "    print(x)\n",
    "\n",
    "    \n",
    "x=1\n",
    "while x<=10:\n",
    "    print(x)\n",
    "    x+=1"
   ]
  },
  {
   "cell_type": "markdown",
   "metadata": {},
   "source": [
    "14. If you had a bacon() function within a spam module, what would you call it after importing spam?\n",
    "It will be called spam module's attribute."
   ]
  }
 ],
 "metadata": {
  "kernelspec": {
   "display_name": "Python 3",
   "language": "python",
   "name": "python3"
  },
  "language_info": {
   "codemirror_mode": {
    "name": "ipython",
    "version": 3
   },
   "file_extension": ".py",
   "mimetype": "text/x-python",
   "name": "python",
   "nbconvert_exporter": "python",
   "pygments_lexer": "ipython3",
   "version": "3.8.3"
  }
 },
 "nbformat": 4,
 "nbformat_minor": 4
}
